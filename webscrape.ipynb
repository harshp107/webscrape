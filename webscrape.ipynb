{
 "cells": [
  {
   "cell_type": "code",
   "execution_count": 2,
   "id": "61d037d9-b85e-486e-a9d1-35e608eb8448",
   "metadata": {},
   "outputs": [],
   "source": [
    "import requests\n"
   ]
  },
  {
   "cell_type": "code",
   "execution_count": 30,
   "id": "cf655809-afa9-42ae-a991-7df0bc683f93",
   "metadata": {},
   "outputs": [],
   "source": [
    "from bs4 import BeautifulSoup"
   ]
  },
  {
   "cell_type": "code",
   "execution_count": 35,
   "id": "10dfb60f-0f90-49a1-ba4a-511d5d8b2502",
   "metadata": {},
   "outputs": [],
   "source": [
    "import xlwt\n",
    "import pandas as pd"
   ]
  },
  {
   "cell_type": "code",
   "execution_count": 100,
   "id": "d8e11a4f-3748-47c9-8ebd-5693d5b52648",
   "metadata": {},
   "outputs": [],
   "source": [
    "url=\"https://indiasweethouse.in/collections/sweets\"\n",
    "res=requests.get(url)\n",
    "soup = BeautifulSoup(res.text, 'html.parser')"
   ]
  },
  {
   "cell_type": "code",
   "execution_count": 108,
   "id": "dbb7b1a8-6219-41e9-bd53-6b58cd44f9a2",
   "metadata": {},
   "outputs": [
    {
     "name": "stdout",
     "output_type": "stream",
     "text": [
      "['HoneyJalebi', 'Pheni2pcs', 'Balushahi', 'HorlicksBurfi', 'ChocoMaltBarfi', 'Suryakala', 'MiniJhangiri', 'Jhangiri', 'MiniChiroti', 'PutharekuluJaggery', 'BombayHalwa', 'DryFruitHalwa']\n",
      "['Rs.195.00', 'Rs.75.00', 'Rs.180.00', 'Rs.210.00', 'Rs.170.00', 'Rs.180.00', 'Rs.180.00', 'Rs.180.00', 'Rs.270.00', 'Rs.50.00', 'Rs.180.00', 'Rs.210.00']\n"
     ]
    }
   ],
   "source": [
    "mydivs = soup.find_all(\"h3\",class_=\"block text-base\")\n",
    "name=[]\n",
    "for n in mydivs:\n",
    "    name.append(n.a.text.replace(\" \", \"\").strip())\n",
    "print(name)\n",
    "diva= soup.find_all(\"span\",class_=\"f-price-item f-price-item--regular\")\n",
    "price=[]\n",
    "for p in diva:\n",
    "    price.append(p.text.replace(\" \", \"\").strip())\n",
    "print(price)\n",
    "\n",
    "\n",
    "    \n",
    "    \n",
    "    \n",
    "    \n",
    "\n",
    "\n",
    "\n",
    "\n",
    "    \n",
    "    \n",
    "\n",
    "    "
   ]
  },
  {
   "cell_type": "code",
   "execution_count": null,
   "id": "0256dba7-63e9-49e7-89f7-5827b19bd3ae",
   "metadata": {},
   "outputs": [],
   "source": []
  },
  {
   "cell_type": "code",
   "execution_count": null,
   "id": "2ef73f34-32c7-4868-9abb-6c29fc1f414c",
   "metadata": {},
   "outputs": [],
   "source": []
  }
 ],
 "metadata": {
  "kernelspec": {
   "display_name": "Python 3 (ipykernel)",
   "language": "python",
   "name": "python3"
  },
  "language_info": {
   "codemirror_mode": {
    "name": "ipython",
    "version": 3
   },
   "file_extension": ".py",
   "mimetype": "text/x-python",
   "name": "python",
   "nbconvert_exporter": "python",
   "pygments_lexer": "ipython3",
   "version": "3.10.0"
  }
 },
 "nbformat": 4,
 "nbformat_minor": 5
}
